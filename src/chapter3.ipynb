{
 "cells": [
  {
   "attachments": {},
   "cell_type": "markdown",
   "metadata": {},
   "source": [
    "# 기본 CF 알고리즘"
   ]
  },
  {
   "cell_type": "code",
   "execution_count": 24,
   "metadata": {},
   "outputs": [],
   "source": [
    "import pandas as pd\n",
    "import numpy as np\n",
    "from sklearn.model_selection import train_test_split\n",
    "\n",
    "\n",
    "def get_dataset_1() -> \"pd.DataFrame\":\n",
    "  \"\"\"users, movies, ratings dataframe을 반환하는 함수\n",
    "\n",
    "  Returns:\n",
    "      pd.DataFrame: users, movies, ratings dataframe\n",
    "  \"\"\"\n",
    "  u_cols = ['user_id', 'age', 'sex', 'occupation', 'zip_code']\n",
    "  i_cols = ['movie_id', 'title', 'release_date', 'video release date', 'IMDB URL', 'unknown',\n",
    "            'Action', 'Adventure', 'Animation', 'children\\s', 'Comedy', 'Crime', 'Documentary', 'Drama',\n",
    "            'Fantasy', 'Film-Noir', 'Horror', 'Musical', 'Mystery', 'Romance', 'Sci-Fi', 'Thriller', 'War',\n",
    "            'Western']\n",
    "  r_cols = ['user_id', 'movie_id', 'rating', 'timestamp']\n",
    "\n",
    "  users = pd.read_csv('../data2/u.user', sep='|', names=u_cols, encoding='latin-1')\n",
    "    \n",
    "  movies = pd.read_csv('../data2/u.item', sep='|', names=i_cols, encoding='latin-1')\n",
    "  movies = movies[['movie_id', 'title']]\n",
    "  \n",
    "  ratings = pd.read_csv('../data2/u.data', sep='\\t', names=r_cols, encoding='latin-1')\n",
    "  ratings.drop('timestamp', axis=1, inplace=True)\n",
    "  \n",
    "  return users, movies, ratings\n",
    "\n",
    "users, movies, ratings = get_dataset_1()\n",
    "\n",
    "X = ratings.copy()\n",
    "y = ratings['user_id']\n",
    "\n",
    "X_train, X_test, y_train, y_test = train_test_split(X, y, test_size=0.25, stratify=y)\n",
    "\n",
    "rating_matrix = X_train.pivot(index=\"user_id\", columns='movie_id', values='rating')\n",
    "\n",
    "def RMSE(y_true:\"pd.Series\"or \"np.array\", y_pred:\"pd.Series\") -> float:\n",
    "  \"\"\"_summary_\n",
    "\n",
    "  Args:\n",
    "      y_true (pd.Series&quot;or&quot;np.array): y의 정답\n",
    "      y_pred (pd.Series&quot;or&quot;np.array): y의 예측치\n",
    "\n",
    "  Returns:\n",
    "      float: RMSE\n",
    "  \"\"\"\n",
    "  return np.sqrt(np.mean((np.array(y_true)-np.array(y_pred))**2))\n",
    "\n",
    "# 모델별 RMSE를 계산하는 함수\n",
    "def score(model) -> float:\n",
    "  \"\"\"모델별 RMSE를 계산하는 함수\n",
    "\n",
    "  Args:\n",
    "      model (_type_): rating을 예측하는 모델\n",
    "\n",
    "  Returns:\n",
    "      float: RMSE\n",
    "  \"\"\"\n",
    "  id_pairs = zip(X_test['user_id'], X_test['movie_id'])\n",
    "  \n",
    "  y_pred = np.array([model(user_id, movie_id) for (user_id, movie_id) in id_pairs])\n",
    "  y_true = np.array(X_test['rating'])\n",
    "\n",
    "  return RMSE(y_true, y_pred)\n",
    "\n"
   ]
  },
  {
   "cell_type": "code",
   "execution_count": 5,
   "metadata": {},
   "outputs": [],
   "source": [
    "from sklearn.metrics.pairwise import cosine_similarity\n",
    "\n",
    "matrix_dummy = rating_matrix.copy().fillna(0)\n",
    "\n",
    "user_similarity = cosine_similarity(matrix_dummy, matrix_dummy)\n",
    "user_similarity = pd.DataFrame(user_similarity, index=rating_matrix.index, columns=rating_matrix.index)"
   ]
  },
  {
   "cell_type": "code",
   "execution_count": 32,
   "metadata": {},
   "outputs": [],
   "source": [
    "# 이웃을 전체 사용자로 설정\n",
    "def CF_simple(user_id:str, movie_id:str) -> float:\n",
    "  \"\"\"이웃을 전체 사용자로 설정하고, \n",
    "  주어진 영화에 대해서 평가한 각 사용자에 대해서, 평점을 유사도로 가중평균한 예측치를 구함.\n",
    "  즉, 해당 user id가 movie id를 어떻게 평가할 것인지를 유사도로 평점을 가중평균해 예측하는 함수 \n",
    "\n",
    "  Args:\n",
    "      user_id (str): 사용자 id\n",
    "      movie_id (str): movie id\n",
    "\n",
    "  Returns:\n",
    "      float: user id와 movie id를 평가한 사용자에 대한, 유사도로 평점을 가중평균한 예측치\n",
    "  \"\"\"\n",
    "  # 해당 movie id에 대해서 평가한 값이 있는지 확인\n",
    "  if movie_id in rating_matrix.columns:\n",
    "    movie_ratings = rating_matrix[movie_id].copy()\n",
    "    # movie_id에 대해서 평가하지 않은 user \n",
    "    none_rating_idx = movie_ratings[movie_ratings.isnull()].index\n",
    "    movie_ratings = movie_ratings.dropna()\n",
    "    \n",
    "    sim_scores = user_similarity[user_id].copy()\n",
    "    sim_scores = sim_scores.dropna()\n",
    "    # 평가하지 않은 유저는 뺴준다.\n",
    "    sim_scores = sim_scores.drop(none_rating_idx, axis=0)\n",
    "    \n",
    "    # 주어진 영화에 대해서 평가한 각 사용자에 대해서 평점을 유사도로 가중평균한 예측치를 구함\n",
    "    mean_rating = np.dot(sim_scores, movie_ratings) / sim_scores.sum()\n",
    "  # 없으면 3.0으로 예측\n",
    "  else:\n",
    "    mean_rating = 3.0\n",
    "    \n",
    "  return mean_rating"
   ]
  },
  {
   "cell_type": "code",
   "execution_count": 33,
   "metadata": {},
   "outputs": [
    {
     "data": {
      "text/plain": [
       "1.0166301998153813"
      ]
     },
     "execution_count": 33,
     "metadata": {},
     "output_type": "execute_result"
    }
   ],
   "source": [
    "score(CF_simple)"
   ]
  },
  {
   "attachments": {},
   "cell_type": "markdown",
   "metadata": {},
   "source": [
    "연습문제)   \n",
    "위의 코드를 수정해서 코사인 유사도 대신에 피어슨 상관계수를 사용하는 코드를 작성하고 RMSE를 계산하세요."
   ]
  },
  {
   "cell_type": "code",
   "execution_count": 51,
   "metadata": {},
   "outputs": [],
   "source": [
    "from sklearn.metrics.pairwise import cosine_similarity\n",
    "\n",
    "matrix_dummy = rating_matrix.copy().fillna(0)\n",
    "\n",
    "user_similarity = cosine_similarity(matrix_dummy, matrix_dummy)\n",
    "user_similarity = pd.DataFrame(user_similarity, index=rating_matrix.index, columns=rating_matrix.index)\n",
    "\n",
    "user_corr = matrix_dummy.T.corr()\n",
    "user_corr = pd.DataFrame(user_corr, index=rating_matrix.index, columns=rating_matrix.index)\n",
    "\n",
    "def CF_simple_using(simil:str):\n",
    "  \"\"\"similarity를 어떻게 계산할지 여부에 따라 해당 model을 return하는 함수\n",
    "\n",
    "  Args:\n",
    "      simil (str): similarity계산 방식 ( cosine or corr )\n",
    "\n",
    "  Raises:\n",
    "      Exception: simil값이 정확하지 않을 때\n",
    "\n",
    "  Returns:\n",
    "      _type_: CF_simple model\n",
    "  \"\"\"\n",
    "  if simil == 'cosine':\n",
    "    return CF_simple_cosine\n",
    "  elif simil == 'corr':\n",
    "    return CF_simple_corr\n",
    "  else:\n",
    "    raise Exception('simil값을 확인해주세요 (cosine or corr)')    \n",
    "\n",
    "# 이웃을 전체 사용자로 설정\n",
    "def CF_simple_cosine(user_id:str, movie_id:str) -> float:\n",
    "  \"\"\"이웃을 전체 사용자로 설정하고, \n",
    "  주어진 영화에 대해서 평가한 각 사용자에 대해서, 평점을 유사도로 가중평균한 예측치를 구함.\n",
    "  즉, 해당 user id가 movie id를 어떻게 평가할 것인지를 유사도로 평점을 가중평균해 예측하는 함수 \n",
    "  유사도 : cosine similarity\n",
    "  Args:\n",
    "      user_id (str): 사용자 id\n",
    "      movie_id (str): 영화 id\n",
    "  Returns:\n",
    "      float: user id와 movie id를 평가한 사용자에 대한, 유사도로 평점을 가중평균한 예측치\n",
    "  \"\"\"\n",
    "  # 해당 movie id에 대해서 평가한 값이 있는지 확인\n",
    "  if movie_id in rating_matrix.columns:\n",
    "    movie_ratings = rating_matrix[movie_id].copy()\n",
    "    # movie_id에 대해서 평가하지 않은 user \n",
    "    none_rating_idx = movie_ratings[movie_ratings.isnull()].index\n",
    "    movie_ratings = movie_ratings.dropna()\n",
    "    \n",
    "    sim_scores = user_similarity[user_id].copy()\n",
    "    sim_scores = sim_scores.dropna()\n",
    "    # 평가하지 않은 유저는 뺴준다.\n",
    "    sim_scores = sim_scores.drop(none_rating_idx, axis=0)\n",
    "    \n",
    "    # 주어진 영화에 대해서 평가한 각 사용자에 대해서 평점을 유사도로 가중평균한 예측치를 구함\n",
    "    mean_rating = np.dot(sim_scores, movie_ratings) / sim_scores.sum()\n",
    "  # 없으면 3.0으로 예측\n",
    "  else:\n",
    "    mean_rating = 3.0\n",
    "    \n",
    "  return mean_rating\n",
    "\n",
    "# 이웃을 전체 사용자로 설정\n",
    "def CF_simple_corr(user_id:str, movie_id:str) -> float:\n",
    "  \"\"\"이웃을 전체 사용자로 설정하고, \n",
    "  주어진 영화에 대해서 평가한 각 사용자에 대해서, 평점을 유사도로 가중평균한 예측치를 구함.  \n",
    "  즉, 해당 user id가 movie id를 어떻게 평가할 것인지를 유사도로 평점을 가중평균해 예측하는 함수.\n",
    "  유사도: correlation\n",
    "  \n",
    "  Args:\n",
    "      user_id (str): 사용자 id\n",
    "      movie_id (str): 영화 id\n",
    "  Returns:\n",
    "      float: user id와 movie id를 평가한 사용자에 대한, 유사도로 평점을 가중평균한 예측치\n",
    "  \"\"\"\n",
    "  # 해당 movie id에 대해서 평가한 값이 있는지 확인\n",
    "  if movie_id in rating_matrix.columns:\n",
    "    movie_ratings = rating_matrix[movie_id].copy()\n",
    "    # movie_id에 대해서 평가하지 않은 user \n",
    "    none_rating_idx = movie_ratings[movie_ratings.isnull()].index\n",
    "    movie_ratings = movie_ratings.dropna()\n",
    "    \n",
    "    sim_scores = user_corr[user_id].copy()\n",
    "    sim_scores = sim_scores.dropna()\n",
    "    # 평가하지 않은 유저는 뺴준다.\n",
    "    sim_scores = sim_scores.drop(none_rating_idx, axis=0)\n",
    "    \n",
    "    # 주어진 영화에 대해서 평가한 각 사용자에 대해서 평점을 유사도로 가중평균한 예측치를 구함\n",
    "    mean_rating = np.dot(sim_scores, movie_ratings) / sim_scores.sum()\n",
    "  # 없으면 3.0으로 예측\n",
    "  else:\n",
    "    mean_rating = 3.0\n",
    "    \n",
    "  return mean_rating"
   ]
  },
  {
   "cell_type": "code",
   "execution_count": 49,
   "metadata": {},
   "outputs": [
    {
     "name": "stdout",
     "output_type": "stream",
     "text": [
      "smilarity: cosine , 1.0190\n",
      "smilarity: corr , 1.3774\n"
     ]
    }
   ],
   "source": [
    "print(f\"smilarity: cosine , {score(CF_simple_using(simil='cosine')):.4f}\")\n",
    "print(f\"smilarity: corr , {score(CF_simple_using(simil='corr')):.4f}\")"
   ]
  },
  {
   "attachments": {},
   "cell_type": "markdown",
   "metadata": {},
   "source": [
    "# 이웃을 고려한 CF"
   ]
  },
  {
   "attachments": {},
   "cell_type": "markdown",
   "metadata": {},
   "source": []
  }
 ],
 "metadata": {
  "kernelspec": {
   "display_name": "quant_39",
   "language": "python",
   "name": "quant_39"
  },
  "language_info": {
   "codemirror_mode": {
    "name": "ipython",
    "version": 3
   },
   "file_extension": ".py",
   "mimetype": "text/x-python",
   "name": "python",
   "nbconvert_exporter": "python",
   "pygments_lexer": "ipython3",
   "version": "3.9.13"
  },
  "orig_nbformat": 4
 },
 "nbformat": 4,
 "nbformat_minor": 2
}
