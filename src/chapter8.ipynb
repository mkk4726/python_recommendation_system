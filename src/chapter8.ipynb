{
 "cells": [
  {
   "attachments": {},
   "cell_type": "markdown",
   "metadata": {},
   "source": [
    "하이브리드 추천 시스템의 기본 컨셉"
   ]
  },
  {
   "cell_type": "code",
   "execution_count": 18,
   "metadata": {},
   "outputs": [
    {
     "name": "stdout",
     "output_type": "stream",
     "text": [
      "recomm0: 1.6993 / recomm1: 1.6992 / hybrid: 1.5691\n"
     ]
    }
   ],
   "source": [
    "import random\n",
    "import numpy as np\n",
    "import chapter8_modules as m8\n",
    "\n",
    "# 기본 추천기\n",
    "def recommender0(recomm_list):\n",
    "  recommendations = []\n",
    "  for pair in recomm_list:\n",
    "    recommendations.append(random.random() * 4 + 1)\n",
    "  return np.array(recommendations)\n",
    "# 기본 추천기\n",
    "def recommender1(recomm_list):\n",
    "  recommendations = []\n",
    "  for pair in recomm_list:\n",
    "    recommendations.append(random.random() * 4 + 1)\n",
    "  return np.array(recommendations)\n",
    "\n",
    "_, _, ratings = m8.get_dataset_2()\n",
    "recomm_list = np.array(ratings)\n",
    "\n",
    "prediction0 = recommender0(recomm_list)\n",
    "prediction1 = recommender1(recomm_list)\n",
    "# hybrid 추천\n",
    "weight = [0.8, 0.2]\n",
    "predictions = prediction0 * weight[0] + prediction1 * weight[1]\n",
    "# 결과비교\n",
    "recomm0_rmse = m8.RMSE2(ratings['rating'], prediction0)\n",
    "recomm1_rmse = m8.RMSE2(ratings['rating'], prediction1)\n",
    "hybrid_rmse = m8.RMSE2(ratings['rating'], predictions)\n",
    "\n",
    "print(f\"recomm0: {recomm0_rmse:.4f} / recomm1: {recomm1_rmse:.4f} / hybrid: {hybrid_rmse:.4f}\")"
   ]
  },
  {
   "attachments": {},
   "cell_type": "markdown",
   "metadata": {},
   "source": [
    "하이브리드 추천시스템(CF와 MF의 결합)"
   ]
  },
  {
   "cell_type": "code",
   "execution_count": 44,
   "metadata": {},
   "outputs": [
    {
     "name": "stdout",
     "output_type": "stream",
     "text": [
      "Iteration 10 / Train RMSE = 1.0250\n",
      "Iteration 20 / Train RMSE = 0.9836\n",
      "Iteration 30 / Train RMSE = 0.9605\n",
      "Iteration 40 / Train RMSE = 0.9453\n",
      "Iteration 50 / Train RMSE = 0.9342\n",
      "Iteration 60 / Train RMSE = 0.9255\n",
      "Iteration 70 / Train RMSE = 0.9183\n",
      "Iteration 80 / Train RMSE = 0.9117\n",
      "Iteration 90 / Train RMSE = 0.9054\n",
      "Iteration 100 / Train RMSE = 0.8987\n"
     ]
    }
   ],
   "source": [
    "from sklearn.model_selection import train_test_split\n",
    "import importlib\n",
    "importlib.reload(m8) # 모듈 다시 불러오기 ( 변경사항 있으면 다시 불러와줘야 함 )\n",
    "\n",
    "_, _, ratings = m8.get_dataset_2()\n",
    "ratings_train, ratings_test, _, _ = train_test_split(ratings, ratings['rating'], train_size=0.2, random_state=1)\n",
    "recomm_list = np.array(ratings_test)\n",
    "rating_matrix = ratings.pivot(index='user_id', columns='movie_id', values='rating').fillna(0)\n",
    "\n",
    "mf_kwargs = {\n",
    "    'ratings': rating_matrix,\n",
    "    'K': 200,\n",
    "    'alpha': 0.001,\n",
    "    'beta': 0.02,\n",
    "    'iterations':100,\n",
    "    'verbose':True\n",
    "  }\n",
    "\n",
    "mf = m8.NEW_MF(**mf_kwargs)\n",
    "mf.set_test(ratings_test)\n",
    "train_process = mf.train()"
   ]
  },
  {
   "cell_type": "code",
   "execution_count": 122,
   "metadata": {},
   "outputs": [
    {
     "name": "stdout",
     "output_type": "stream",
     "text": [
      "rmse of , 0.2cf : 1.0381060451579396 / 0.8mf : 0.9729583662137039 / hybrid : 0.9744075717727295\n"
     ]
    }
   ],
   "source": [
    "# CF\n",
    "cf_kwargs = {\n",
    "  'ratings': ratings,\n",
    "  'use_split': False,\n",
    "  'ratings_train': ratings_train,\n",
    "  'ratings_test': ratings_test\n",
    "}\n",
    "\n",
    "cf = m8.CF(**cf_kwargs)\n",
    "\n",
    "def recommender_CF(recomm_list, simil, neighbor_size):\n",
    "  recommendations = [cf.CF_knn_bias_sig(user, movie, simil, neighbor_size) \n",
    "                     for (user, movie) in recomm_list]\n",
    "  return np.array(recommendations)\n",
    "\n",
    "# MF\n",
    "def recommender_MF(recomm_list):\n",
    "  recommendations = [mf.get_one_prediction(user, movie) for (user, movie) in recomm_list]\n",
    "  return np.array(recommendations)\n",
    "\n",
    "recomm_list = np.array(ratings_test.iloc[:, [0,1]])\n",
    "prediction_CF = recommender_CF(recomm_list, simil='cosine', neighbor_size=30)\n",
    "prediction_MF = recommender_MF(recomm_list)\n",
    "\n",
    "weight = [0.8, 0.2]\n",
    "prediction_hybrid = prediction_MF * weight[0] + prediction_CF * weight[1]\n",
    "\n",
    "rmse_cf = m8.RMSE2(ratings_test.iloc[:, 2], prediction_CF)\n",
    "rmse_mf = m8.RMSE2(ratings_test.iloc[:, 2], prediction_MF)\n",
    "rmse_hybrid = m8.RMSE2(ratings_test.iloc[:, 2], prediction_hybrid)\n",
    "print(f\"rmse of , {weight[1]}cf : {rmse_cf} / {weight[0]}mf : {rmse_mf} / hybrid : {rmse_hybrid}\") \n"
   ]
  },
  {
   "attachments": {},
   "cell_type": "markdown",
   "metadata": {},
   "source": [
    "계속해서 남아있는 의문은, 기존에 없는 user id의 경우 예측이 불가능하다는 것.  "
   ]
  }
 ],
 "metadata": {
  "kernelspec": {
   "display_name": "quant_39",
   "language": "python",
   "name": "quant_39"
  },
  "language_info": {
   "codemirror_mode": {
    "name": "ipython",
    "version": 3
   },
   "file_extension": ".py",
   "mimetype": "text/x-python",
   "name": "python",
   "nbconvert_exporter": "python",
   "pygments_lexer": "ipython3",
   "version": "3.9.13"
  },
  "orig_nbformat": 4
 },
 "nbformat": 4,
 "nbformat_minor": 2
}
