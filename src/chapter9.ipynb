{
 "cells": [
  {
   "attachments": {},
   "cell_type": "markdown",
   "metadata": {},
   "source": [
    "Sparse matrix , scipy"
   ]
  },
  {
   "cell_type": "code",
   "execution_count": 1,
   "metadata": {},
   "outputs": [],
   "source": [
    "import numpy as np\n",
    "import pandas as pd\n",
    "\n",
    "ratings = {\n",
    "  'user_id': [1, 2, 4],\n",
    "  'movie_id': [2, 3, 7],\n",
    "  'rating': [4, 3, 1]\n",
    "}\n",
    "ratings = pd.DataFrame(ratings)"
   ]
  },
  {
   "cell_type": "code",
   "execution_count": 2,
   "metadata": {},
   "outputs": [
    {
     "data": {
      "text/html": [
       "<div>\n",
       "<style scoped>\n",
       "    .dataframe tbody tr th:only-of-type {\n",
       "        vertical-align: middle;\n",
       "    }\n",
       "\n",
       "    .dataframe tbody tr th {\n",
       "        vertical-align: top;\n",
       "    }\n",
       "\n",
       "    .dataframe thead th {\n",
       "        text-align: right;\n",
       "    }\n",
       "</style>\n",
       "<table border=\"1\" class=\"dataframe\">\n",
       "  <thead>\n",
       "    <tr style=\"text-align: right;\">\n",
       "      <th></th>\n",
       "      <th>user_id</th>\n",
       "      <th>movie_id</th>\n",
       "      <th>rating</th>\n",
       "    </tr>\n",
       "  </thead>\n",
       "  <tbody>\n",
       "    <tr>\n",
       "      <th>0</th>\n",
       "      <td>1</td>\n",
       "      <td>2</td>\n",
       "      <td>4</td>\n",
       "    </tr>\n",
       "    <tr>\n",
       "      <th>1</th>\n",
       "      <td>2</td>\n",
       "      <td>3</td>\n",
       "      <td>3</td>\n",
       "    </tr>\n",
       "    <tr>\n",
       "      <th>2</th>\n",
       "      <td>4</td>\n",
       "      <td>7</td>\n",
       "      <td>1</td>\n",
       "    </tr>\n",
       "  </tbody>\n",
       "</table>\n",
       "</div>"
      ],
      "text/plain": [
       "   user_id  movie_id  rating\n",
       "0        1         2       4\n",
       "1        2         3       3\n",
       "2        4         7       1"
      ]
     },
     "execution_count": 2,
     "metadata": {},
     "output_type": "execute_result"
    }
   ],
   "source": [
    "ratings"
   ]
  },
  {
   "cell_type": "code",
   "execution_count": 9,
   "metadata": {},
   "outputs": [
    {
     "name": "stdout",
     "output_type": "stream",
     "text": [
      "movie_id    2    3    7\n",
      "user_id                \n",
      "1         4.0  0.0  0.0\n",
      "2         0.0  3.0  0.0\n",
      "4         0.0  0.0  1.0\n",
      "[[4. 0. 0.]\n",
      " [0. 3. 0.]\n",
      " [0. 0. 1.]]\n"
     ]
    }
   ],
   "source": [
    "# Pandas pivot을 이용해서 full matrix로 변환하는 경우\n",
    "rating_matrix = ratings.pivot(index='user_id', columns='movie_id',values='rating').fillna(0)\n",
    "full_matrix1 = np.array(rating_matrix)\n",
    "print(rating_matrix)\n",
    "print(full_matrix1)"
   ]
  },
  {
   "cell_type": "code",
   "execution_count": 8,
   "metadata": {},
   "outputs": [
    {
     "name": "stdout",
     "output_type": "stream",
     "text": [
      "  (1, 2)\t4\n",
      "  (2, 3)\t3\n",
      "  (4, 7)\t1\n",
      "[[0 0 0 0 0 0 0 0]\n",
      " [0 0 4 0 0 0 0 0]\n",
      " [0 0 0 3 0 0 0 0]\n",
      " [0 0 0 0 0 0 0 0]\n",
      " [0 0 0 0 0 0 0 1]]\n"
     ]
    }
   ],
   "source": [
    "# Sparse matrix를 이용해서 full amtrix로 변환하는 경우\n",
    "from scipy.sparse import csr_matrix\n",
    "\n",
    "data = np.array(ratings['rating'])\n",
    "row_indices = np.array(ratings['user_id'])\n",
    "col_indices = np.array(ratings['movie_id'])\n",
    "rating_matrix = csr_matrix((data, (row_indices, col_indices)), dtype=int)\n",
    "print(rating_matrix)\n",
    "full_matrix2 = rating_matrix.toarray()\n",
    "print(full_matrix2)"
   ]
  },
  {
   "cell_type": "code",
   "execution_count": 10,
   "metadata": {},
   "outputs": [
    {
     "name": "stdout",
     "output_type": "stream",
     "text": [
      "movie_id    2    3    7\n",
      "user_id                \n",
      "1         8.0  0.0  0.0\n",
      "2         0.0  6.0  0.0\n",
      "4         0.0  0.0  2.0\n",
      "user_id     1    2    4\n",
      "movie_id               \n",
      "2         4.0  0.0  0.0\n",
      "3         0.0  3.0  0.0\n",
      "7         0.0  0.0  1.0\n",
      "user_id     1    2    4\n",
      "user_id                \n",
      "1        16.0  0.0  0.0\n",
      "2         0.0  9.0  0.0\n",
      "4         0.0  0.0  1.0\n"
     ]
    }
   ],
   "source": [
    "print(rating_matrix * 2)\n",
    "print(rating_matrix.T)\n",
    "print(rating_matrix.dot(rating_matrix.T))"
   ]
  },
  {
   "attachments": {},
   "cell_type": "markdown",
   "metadata": {},
   "source": [
    "추천 알고리즘에 적용"
   ]
  },
  {
   "cell_type": "code",
   "execution_count": 13,
   "metadata": {},
   "outputs": [
    {
     "data": {
      "text/plain": [
       "['ml-100k']"
      ]
     },
     "execution_count": 13,
     "metadata": {},
     "output_type": "execute_result"
    }
   ],
   "source": [
    "import os\n",
    "\n",
    "path = 'C:/Users/Hi/.surprise_data/'\n",
    "os.listdir(path)"
   ]
  },
  {
   "cell_type": "code",
   "execution_count": null,
   "metadata": {},
   "outputs": [],
   "source": [
    "import pandas as pd\n",
    "\n",
    "r_cols = ['user_id', 'movie_id', 'rating', 'timestamp']\n",
    "ratings = pd.read_csv(path + 'u.data', sep='\\t', names=r_cols, encoding='latin-1')\n",
    "ratings.drop('timestamp', axis=1, inplace=True)"
   ]
  }
 ],
 "metadata": {
  "kernelspec": {
   "display_name": "quant_39",
   "language": "python",
   "name": "quant_39"
  },
  "language_info": {
   "codemirror_mode": {
    "name": "ipython",
    "version": 3
   },
   "file_extension": ".py",
   "mimetype": "text/x-python",
   "name": "python",
   "nbconvert_exporter": "python",
   "pygments_lexer": "ipython3",
   "version": "3.9.13"
  },
  "orig_nbformat": 4
 },
 "nbformat": 4,
 "nbformat_minor": 2
}
