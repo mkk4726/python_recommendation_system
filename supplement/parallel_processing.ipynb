{
 "cells": [
  {
   "cell_type": "code",
   "execution_count": 2,
   "metadata": {},
   "outputs": [],
   "source": [
    "from multiprocessing import Process\n",
    "import time\n",
    "import os\n",
    "\n",
    "start_time = time.time()\n",
    "\n",
    "def count(cnt):\n",
    "  proc = os.getpid()\n",
    "  for i in range(cnt):\n",
    "    print(f\"Process ID : {proc} -- {i}\")\n",
    "    \n",
    "num_arr = [100000, 100000, 100000, 100000]\n",
    "procs = []\n",
    "\n",
    "for index, number in enumerate(num_arr):\n",
    "  proc = Process(target=count, args=(number, ))\n",
    "  procs.append(proc)\n",
    "  proc.start()\n",
    "  \n",
    "for proc in procs:\n",
    "  proc.join()"
   ]
  },
  {
   "attachments": {},
   "cell_type": "markdown",
   "metadata": {},
   "source": [
    "ipynb에서는 multi process에 제약이 존재. "
   ]
  }
 ],
 "metadata": {
  "kernelspec": {
   "display_name": "quant_39",
   "language": "python",
   "name": "quant_39"
  },
  "language_info": {
   "codemirror_mode": {
    "name": "ipython",
    "version": 3
   },
   "file_extension": ".py",
   "mimetype": "text/x-python",
   "name": "python",
   "nbconvert_exporter": "python",
   "pygments_lexer": "ipython3",
   "version": "3.9.13"
  },
  "orig_nbformat": 4
 },
 "nbformat": 4,
 "nbformat_minor": 2
}
